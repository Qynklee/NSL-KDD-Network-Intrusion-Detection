{
 "cells": [
  {
   "cell_type": "code",
   "execution_count": 273,
   "metadata": {},
   "outputs": [],
   "source": [
    "import pandas as pd\n",
    "import numpy as np\n",
    "import sys\n",
    "import sklearn\n",
    "import io\n",
    "import random"
   ]
  },
  {
   "cell_type": "code",
   "execution_count": 274,
   "metadata": {},
   "outputs": [],
   "source": [
    "dataset = \"train2.csv\"\n",
    "testfile = \"test2.csv\""
   ]
  },
  {
   "cell_type": "code",
   "execution_count": 275,
   "metadata": {},
   "outputs": [
    {
     "name": "stdout",
     "output_type": "stream",
     "text": [
      "Dataset:  (88161, 42)\n",
      "Testfile:  (37811, 42)\n"
     ]
    },
    {
     "data": {
      "text/html": [
       "<div>\n",
       "<style scoped>\n",
       "    .dataframe tbody tr th:only-of-type {\n",
       "        vertical-align: middle;\n",
       "    }\n",
       "\n",
       "    .dataframe tbody tr th {\n",
       "        vertical-align: top;\n",
       "    }\n",
       "\n",
       "    .dataframe thead th {\n",
       "        text-align: right;\n",
       "    }\n",
       "</style>\n",
       "<table border=\"1\" class=\"dataframe\">\n",
       "  <thead>\n",
       "    <tr style=\"text-align: right;\">\n",
       "      <th></th>\n",
       "      <th>duration</th>\n",
       "      <th>protocol_type</th>\n",
       "      <th>service</th>\n",
       "      <th>flag</th>\n",
       "      <th>src_bytes</th>\n",
       "      <th>dst_bytes</th>\n",
       "      <th>land</th>\n",
       "      <th>wrong_fragment</th>\n",
       "      <th>urgent</th>\n",
       "      <th>hot</th>\n",
       "      <th>...</th>\n",
       "      <th>dst_host_srv_count</th>\n",
       "      <th>dst_host_same_srv_rate</th>\n",
       "      <th>dst_host_diff_srv_rate</th>\n",
       "      <th>dst_host_same_src_port_rate</th>\n",
       "      <th>dst_host_srv_diff_host_rate</th>\n",
       "      <th>dst_host_serror_rate</th>\n",
       "      <th>dst_host_srv_serror_rate</th>\n",
       "      <th>dst_host_rerror_rate</th>\n",
       "      <th>dst_host_srv_rerror_rate</th>\n",
       "      <th>label</th>\n",
       "    </tr>\n",
       "  </thead>\n",
       "  <tbody>\n",
       "    <tr>\n",
       "      <th>0</th>\n",
       "      <td>0</td>\n",
       "      <td>udp</td>\n",
       "      <td>other</td>\n",
       "      <td>SF</td>\n",
       "      <td>146</td>\n",
       "      <td>0</td>\n",
       "      <td>0</td>\n",
       "      <td>0</td>\n",
       "      <td>0</td>\n",
       "      <td>0</td>\n",
       "      <td>...</td>\n",
       "      <td>1</td>\n",
       "      <td>0.00</td>\n",
       "      <td>0.60</td>\n",
       "      <td>0.88</td>\n",
       "      <td>0.00</td>\n",
       "      <td>0.00</td>\n",
       "      <td>0.00</td>\n",
       "      <td>0.0</td>\n",
       "      <td>0.00</td>\n",
       "      <td>normal</td>\n",
       "    </tr>\n",
       "    <tr>\n",
       "      <th>1</th>\n",
       "      <td>0</td>\n",
       "      <td>tcp</td>\n",
       "      <td>http</td>\n",
       "      <td>SF</td>\n",
       "      <td>232</td>\n",
       "      <td>8153</td>\n",
       "      <td>0</td>\n",
       "      <td>0</td>\n",
       "      <td>0</td>\n",
       "      <td>0</td>\n",
       "      <td>...</td>\n",
       "      <td>255</td>\n",
       "      <td>1.00</td>\n",
       "      <td>0.00</td>\n",
       "      <td>0.03</td>\n",
       "      <td>0.04</td>\n",
       "      <td>0.03</td>\n",
       "      <td>0.01</td>\n",
       "      <td>0.0</td>\n",
       "      <td>0.01</td>\n",
       "      <td>normal</td>\n",
       "    </tr>\n",
       "    <tr>\n",
       "      <th>2</th>\n",
       "      <td>0</td>\n",
       "      <td>tcp</td>\n",
       "      <td>http</td>\n",
       "      <td>SF</td>\n",
       "      <td>199</td>\n",
       "      <td>420</td>\n",
       "      <td>0</td>\n",
       "      <td>0</td>\n",
       "      <td>0</td>\n",
       "      <td>0</td>\n",
       "      <td>...</td>\n",
       "      <td>255</td>\n",
       "      <td>1.00</td>\n",
       "      <td>0.00</td>\n",
       "      <td>0.00</td>\n",
       "      <td>0.00</td>\n",
       "      <td>0.00</td>\n",
       "      <td>0.00</td>\n",
       "      <td>0.0</td>\n",
       "      <td>0.00</td>\n",
       "      <td>normal</td>\n",
       "    </tr>\n",
       "    <tr>\n",
       "      <th>3</th>\n",
       "      <td>0</td>\n",
       "      <td>tcp</td>\n",
       "      <td>private</td>\n",
       "      <td>REJ</td>\n",
       "      <td>0</td>\n",
       "      <td>0</td>\n",
       "      <td>0</td>\n",
       "      <td>0</td>\n",
       "      <td>0</td>\n",
       "      <td>0</td>\n",
       "      <td>...</td>\n",
       "      <td>19</td>\n",
       "      <td>0.07</td>\n",
       "      <td>0.07</td>\n",
       "      <td>0.00</td>\n",
       "      <td>0.00</td>\n",
       "      <td>0.00</td>\n",
       "      <td>0.00</td>\n",
       "      <td>1.0</td>\n",
       "      <td>1.00</td>\n",
       "      <td>neptune</td>\n",
       "    </tr>\n",
       "    <tr>\n",
       "      <th>4</th>\n",
       "      <td>0</td>\n",
       "      <td>tcp</td>\n",
       "      <td>private</td>\n",
       "      <td>S0</td>\n",
       "      <td>0</td>\n",
       "      <td>0</td>\n",
       "      <td>0</td>\n",
       "      <td>0</td>\n",
       "      <td>0</td>\n",
       "      <td>0</td>\n",
       "      <td>...</td>\n",
       "      <td>9</td>\n",
       "      <td>0.04</td>\n",
       "      <td>0.05</td>\n",
       "      <td>0.00</td>\n",
       "      <td>0.00</td>\n",
       "      <td>1.00</td>\n",
       "      <td>1.00</td>\n",
       "      <td>0.0</td>\n",
       "      <td>0.00</td>\n",
       "      <td>neptune</td>\n",
       "    </tr>\n",
       "  </tbody>\n",
       "</table>\n",
       "<p>5 rows × 42 columns</p>\n",
       "</div>"
      ],
      "text/plain": [
       "   duration protocol_type  service flag  src_bytes  dst_bytes  land  \\\n",
       "0         0           udp    other   SF        146          0     0   \n",
       "1         0           tcp     http   SF        232       8153     0   \n",
       "2         0           tcp     http   SF        199        420     0   \n",
       "3         0           tcp  private  REJ          0          0     0   \n",
       "4         0           tcp  private   S0          0          0     0   \n",
       "\n",
       "   wrong_fragment  urgent  hot  ...  dst_host_srv_count  \\\n",
       "0               0       0    0  ...                   1   \n",
       "1               0       0    0  ...                 255   \n",
       "2               0       0    0  ...                 255   \n",
       "3               0       0    0  ...                  19   \n",
       "4               0       0    0  ...                   9   \n",
       "\n",
       "   dst_host_same_srv_rate  dst_host_diff_srv_rate  \\\n",
       "0                    0.00                    0.60   \n",
       "1                    1.00                    0.00   \n",
       "2                    1.00                    0.00   \n",
       "3                    0.07                    0.07   \n",
       "4                    0.04                    0.05   \n",
       "\n",
       "   dst_host_same_src_port_rate  dst_host_srv_diff_host_rate  \\\n",
       "0                         0.88                         0.00   \n",
       "1                         0.03                         0.04   \n",
       "2                         0.00                         0.00   \n",
       "3                         0.00                         0.00   \n",
       "4                         0.00                         0.00   \n",
       "\n",
       "   dst_host_serror_rate  dst_host_srv_serror_rate  dst_host_rerror_rate  \\\n",
       "0                  0.00                      0.00                   0.0   \n",
       "1                  0.03                      0.01                   0.0   \n",
       "2                  0.00                      0.00                   0.0   \n",
       "3                  0.00                      0.00                   1.0   \n",
       "4                  1.00                      1.00                   0.0   \n",
       "\n",
       "   dst_host_srv_rerror_rate    label  \n",
       "0                      0.00   normal  \n",
       "1                      0.01   normal  \n",
       "2                      0.00   normal  \n",
       "3                      1.00  neptune  \n",
       "4                      0.00  neptune  \n",
       "\n",
       "[5 rows x 42 columns]"
      ]
     },
     "execution_count": 275,
     "metadata": {},
     "output_type": "execute_result"
    }
   ],
   "source": [
    "col_names = [\"duration\",\"protocol_type\",\"service\",\"flag\",\"src_bytes\",\n",
    "    \"dst_bytes\",\"land\",\"wrong_fragment\",\"urgent\",\"hot\",\"num_failed_logins\",\n",
    "    \"logged_in\",\"num_compromised\",\"root_shell\",\"su_attempted\",\"num_root\",\n",
    "    \"num_file_creations\",\"num_shells\",\"num_access_files\",\"num_outbound_cmds\",\n",
    "    \"is_host_login\",\"is_guest_login\",\"count\",\"srv_count\",\"serror_rate\",\n",
    "    \"srv_serror_rate\",\"rerror_rate\",\"srv_rerror_rate\",\"same_srv_rate\",\n",
    "    \"diff_srv_rate\",\"srv_diff_host_rate\",\"dst_host_count\",\"dst_host_srv_count\",\n",
    "    \"dst_host_same_srv_rate\",\"dst_host_diff_srv_rate\",\"dst_host_same_src_port_rate\",\n",
    "    \"dst_host_srv_diff_host_rate\",\"dst_host_serror_rate\",\"dst_host_srv_serror_rate\",\n",
    "    \"dst_host_rerror_rate\",\"dst_host_srv_rerror_rate\",\"label\"]\n",
    "\n",
    "#read dataframe from csv file:\n",
    "df = pd.read_csv(dataset,header=None, names = col_names)\n",
    "df_test = pd.read_csv(testfile, header=None, names = col_names)\n",
    "\n",
    "#Size of dataframe:\n",
    "print(\"Dataset: \", df.shape)\n",
    "print(\"Testfile: \", df_test.shape)\n",
    "\n",
    "#Debug 5 first item\n",
    "df.head(5)"
   ]
  },
  {
   "cell_type": "code",
   "execution_count": 276,
   "metadata": {},
   "outputs": [
    {
     "name": "stdout",
     "output_type": "stream",
     "text": [
      "Dataset : normal             47223\n",
      "neptune            28796\n",
      "ipsweep             2530\n",
      "satan               2517\n",
      "portsweep           2053\n",
      "smurf               1837\n",
      "nmap                1055\n",
      "back                 664\n",
      "teardrop             637\n",
      "warezclient          607\n",
      "pod                  137\n",
      "guess_passwd          26\n",
      "buffer_overflow       19\n",
      "land                  12\n",
      "warezmaster           12\n",
      "loadmodule             8\n",
      "imap                   8\n",
      "ftp_write              6\n",
      "rootkit                6\n",
      "multihop               5\n",
      "spy                    1\n",
      "phf                    1\n",
      "perl                   1\n",
      "Name: label, dtype: int64\n",
      "Testfile:  normal             20119\n",
      "neptune            12418\n",
      "satan               1116\n",
      "ipsweep             1069\n",
      "portsweep            878\n",
      "smurf                809\n",
      "nmap                 438\n",
      "back                 292\n",
      "warezclient          283\n",
      "teardrop             255\n",
      "pod                   64\n",
      "guess_passwd          27\n",
      "buffer_overflow       11\n",
      "warezmaster            8\n",
      "land                   6\n",
      "rootkit                4\n",
      "imap                   3\n",
      "phf                    3\n",
      "multihop               2\n",
      "ftp_write              2\n",
      "perl                   2\n",
      "spy                    1\n",
      "loadmodule             1\n",
      "Name: label, dtype: int64\n"
     ]
    }
   ],
   "source": [
    "#Dem so label moi loai:\n",
    "print(\"Dataset :\", df[\"label\"].value_counts())\n",
    "print(\"Testfile: \", df_test[\"label\"].value_counts())"
   ]
  },
  {
   "cell_type": "code",
   "execution_count": 277,
   "metadata": {},
   "outputs": [
    {
     "name": "stdout",
     "output_type": "stream",
     "text": [
      "Chua la binary Train:\n",
      "protocol_type\n",
      "service\n",
      "flag\n",
      "label\n",
      "Chua la binary Test: \n",
      "protocol_type\n",
      "service\n",
      "flag\n",
      "label\n"
     ]
    }
   ],
   "source": [
    "#Tim cac cot khong phai binary:\n",
    "\n",
    "print(\"Chua la binary Train:\")\n",
    "for col_name in df.columns:\n",
    "    if(df[col_name].dtypes == 'object' ):\n",
    "        print(col_name)\n",
    "\n",
    "print(\"Chua la binary Test: \")\n",
    "for col_name in df_test.columns:\n",
    "    if(df_test[col_name].dtypes == 'object'):\n",
    "        print(col_name)\n"
   ]
  },
  {
   "cell_type": "markdown",
   "metadata": {},
   "source": [
    "**Label Encoder**"
   ]
  },
  {
   "cell_type": "code",
   "execution_count": 278,
   "metadata": {},
   "outputs": [
    {
     "data": {
      "text/html": [
       "<div>\n",
       "<style scoped>\n",
       "    .dataframe tbody tr th:only-of-type {\n",
       "        vertical-align: middle;\n",
       "    }\n",
       "\n",
       "    .dataframe tbody tr th {\n",
       "        vertical-align: top;\n",
       "    }\n",
       "\n",
       "    .dataframe thead th {\n",
       "        text-align: right;\n",
       "    }\n",
       "</style>\n",
       "<table border=\"1\" class=\"dataframe\">\n",
       "  <thead>\n",
       "    <tr style=\"text-align: right;\">\n",
       "      <th></th>\n",
       "      <th>protocol_type</th>\n",
       "      <th>service</th>\n",
       "      <th>flag</th>\n",
       "    </tr>\n",
       "  </thead>\n",
       "  <tbody>\n",
       "    <tr>\n",
       "      <th>0</th>\n",
       "      <td>udp</td>\n",
       "      <td>other</td>\n",
       "      <td>SF</td>\n",
       "    </tr>\n",
       "    <tr>\n",
       "      <th>1</th>\n",
       "      <td>tcp</td>\n",
       "      <td>http</td>\n",
       "      <td>SF</td>\n",
       "    </tr>\n",
       "    <tr>\n",
       "      <th>2</th>\n",
       "      <td>tcp</td>\n",
       "      <td>http</td>\n",
       "      <td>SF</td>\n",
       "    </tr>\n",
       "    <tr>\n",
       "      <th>3</th>\n",
       "      <td>tcp</td>\n",
       "      <td>private</td>\n",
       "      <td>REJ</td>\n",
       "    </tr>\n",
       "    <tr>\n",
       "      <th>4</th>\n",
       "      <td>tcp</td>\n",
       "      <td>private</td>\n",
       "      <td>S0</td>\n",
       "    </tr>\n",
       "  </tbody>\n",
       "</table>\n",
       "</div>"
      ],
      "text/plain": [
       "  protocol_type  service flag\n",
       "0           udp    other   SF\n",
       "1           tcp     http   SF\n",
       "2           tcp     http   SF\n",
       "3           tcp  private  REJ\n",
       "4           tcp  private   S0"
      ]
     },
     "execution_count": 278,
     "metadata": {},
     "output_type": "execute_result"
    }
   ],
   "source": [
    "#Label encoder:\n",
    "\n",
    "from sklearn.preprocessing import LabelEncoder, OneHotEncoder\n",
    "\n",
    "col_object_name = ['protocol_type',\"service\",\"flag\"]\n",
    "\n",
    "df_value = df[col_object_name]\n",
    "df_test_value = df_test[col_object_name]\n",
    "\n",
    "df_value.head()\n"
   ]
  },
  {
   "cell_type": "code",
   "execution_count": 279,
   "metadata": {},
   "outputs": [
    {
     "name": "stdout",
     "output_type": "stream",
     "text": [
      "['Protocol_type_icmp', 'Protocol_type_tcp', 'Protocol_type_udp']\n"
     ]
    }
   ],
   "source": [
    "#protocol type:\n",
    "unique_protocol = sorted(df.protocol_type.unique())\n",
    "temp1 = 'Protocol_type_'\n",
    "unique_protocol2 = [temp1 + x for x in unique_protocol]\n",
    "print(unique_protocol2)\n"
   ]
  },
  {
   "cell_type": "code",
   "execution_count": 280,
   "metadata": {},
   "outputs": [
    {
     "name": "stdout",
     "output_type": "stream",
     "text": [
      "['Service_IRC', 'Service_X11', 'Service_Z39_50', 'Service_aol', 'Service_auth', 'Service_bgp', 'Service_courier', 'Service_csnet_ns', 'Service_ctf', 'Service_daytime', 'Service_discard', 'Service_domain', 'Service_domain_u', 'Service_echo', 'Service_eco_i', 'Service_ecr_i', 'Service_efs', 'Service_exec', 'Service_finger', 'Service_ftp', 'Service_ftp_data', 'Service_gopher', 'Service_harvest', 'Service_hostnames', 'Service_http', 'Service_http_443', 'Service_http_8001', 'Service_imap4', 'Service_iso_tsap', 'Service_klogin', 'Service_kshell', 'Service_ldap', 'Service_link', 'Service_login', 'Service_mtp', 'Service_name', 'Service_netbios_dgm', 'Service_netbios_ns', 'Service_netbios_ssn', 'Service_netstat', 'Service_nnsp', 'Service_nntp', 'Service_ntp_u', 'Service_other', 'Service_pm_dump', 'Service_pop_2', 'Service_pop_3', 'Service_printer', 'Service_private', 'Service_red_i', 'Service_remote_job', 'Service_rje', 'Service_shell', 'Service_smtp', 'Service_sql_net', 'Service_ssh', 'Service_sunrpc', 'Service_supdup', 'Service_systat', 'Service_telnet', 'Service_tftp_u', 'Service_tim_i', 'Service_time', 'Service_urh_i', 'Service_urp_i', 'Service_uucp', 'Service_uucp_path', 'Service_vmnet', 'Service_whois']\n"
     ]
    }
   ],
   "source": [
    "#Service:\n",
    "unique_service = sorted(df.service.unique())\n",
    "\n",
    "temp2 = 'Service_'\n",
    "unique_service2 = [temp2 + x for x in unique_service]\n",
    "print(unique_service2)"
   ]
  },
  {
   "cell_type": "code",
   "execution_count": 281,
   "metadata": {},
   "outputs": [
    {
     "name": "stdout",
     "output_type": "stream",
     "text": [
      "['Flag_OTH', 'Flag_REJ', 'Flag_RSTO', 'Flag_RSTOS0', 'Flag_RSTR', 'Flag_S0', 'Flag_S1', 'Flag_S2', 'Flag_S3', 'Flag_SF', 'Flag_SH']\n"
     ]
    }
   ],
   "source": [
    "# flag:\n",
    "unique_flag = sorted(df.flag.unique())\n",
    "temp3 = 'Flag_'\n",
    "unique_flag2 = [temp3 + x for x in unique_flag]\n",
    "print(unique_flag2)"
   ]
  },
  {
   "cell_type": "code",
   "execution_count": 282,
   "metadata": {},
   "outputs": [
    {
     "name": "stdout",
     "output_type": "stream",
     "text": [
      "['Protocol_type_icmp', 'Protocol_type_tcp', 'Protocol_type_udp', 'Service_IRC', 'Service_X11', 'Service_Z39_50', 'Service_aol', 'Service_auth', 'Service_bgp', 'Service_courier', 'Service_csnet_ns', 'Service_ctf', 'Service_daytime', 'Service_discard', 'Service_domain', 'Service_domain_u', 'Service_echo', 'Service_eco_i', 'Service_ecr_i', 'Service_efs', 'Service_exec', 'Service_finger', 'Service_ftp', 'Service_ftp_data', 'Service_gopher', 'Service_harvest', 'Service_hostnames', 'Service_http', 'Service_http_443', 'Service_http_8001', 'Service_imap4', 'Service_iso_tsap', 'Service_klogin', 'Service_kshell', 'Service_ldap', 'Service_link', 'Service_login', 'Service_mtp', 'Service_name', 'Service_netbios_dgm', 'Service_netbios_ns', 'Service_netbios_ssn', 'Service_netstat', 'Service_nnsp', 'Service_nntp', 'Service_ntp_u', 'Service_other', 'Service_pm_dump', 'Service_pop_2', 'Service_pop_3', 'Service_printer', 'Service_private', 'Service_red_i', 'Service_remote_job', 'Service_rje', 'Service_shell', 'Service_smtp', 'Service_sql_net', 'Service_ssh', 'Service_sunrpc', 'Service_supdup', 'Service_systat', 'Service_telnet', 'Service_tftp_u', 'Service_tim_i', 'Service_time', 'Service_urh_i', 'Service_urp_i', 'Service_uucp', 'Service_uucp_path', 'Service_vmnet', 'Service_whois', 'Flag_OTH', 'Flag_REJ', 'Flag_RSTO', 'Flag_RSTOS0', 'Flag_RSTR', 'Flag_S0', 'Flag_S1', 'Flag_S2', 'Flag_S3', 'Flag_SF', 'Flag_SH']\n"
     ]
    }
   ],
   "source": [
    "\n",
    "# put together\n",
    "dumcols = unique_protocol2 + unique_service2 + unique_flag2\n",
    "print(dumcols)\n"
   ]
  },
  {
   "cell_type": "code",
   "execution_count": 283,
   "metadata": {},
   "outputs": [
    {
     "name": "stdout",
     "output_type": "stream",
     "text": [
      "['Protocol_type_icmp', 'Protocol_type_tcp', 'Protocol_type_udp', 'Service_IRC', 'Service_X11', 'Service_Z39_50', 'Service_auth', 'Service_bgp', 'Service_courier', 'Service_csnet_ns', 'Service_ctf', 'Service_daytime', 'Service_discard', 'Service_domain', 'Service_domain_u', 'Service_echo', 'Service_eco_i', 'Service_ecr_i', 'Service_efs', 'Service_exec', 'Service_finger', 'Service_ftp', 'Service_ftp_data', 'Service_gopher', 'Service_harvest', 'Service_hostnames', 'Service_http', 'Service_http_2784', 'Service_http_443', 'Service_imap4', 'Service_iso_tsap', 'Service_klogin', 'Service_kshell', 'Service_ldap', 'Service_link', 'Service_login', 'Service_mtp', 'Service_name', 'Service_netbios_dgm', 'Service_netbios_ns', 'Service_netbios_ssn', 'Service_netstat', 'Service_nnsp', 'Service_nntp', 'Service_ntp_u', 'Service_other', 'Service_pm_dump', 'Service_pop_2', 'Service_pop_3', 'Service_printer', 'Service_private', 'Service_red_i', 'Service_remote_job', 'Service_rje', 'Service_shell', 'Service_smtp', 'Service_sql_net', 'Service_ssh', 'Service_sunrpc', 'Service_supdup', 'Service_systat', 'Service_telnet', 'Service_tftp_u', 'Service_tim_i', 'Service_time', 'Service_urh_i', 'Service_urp_i', 'Service_uucp', 'Service_uucp_path', 'Service_vmnet', 'Service_whois', 'Flag_OTH', 'Flag_REJ', 'Flag_RSTO', 'Flag_RSTOS0', 'Flag_RSTR', 'Flag_S0', 'Flag_S1', 'Flag_S2', 'Flag_S3', 'Flag_SF', 'Flag_SH']\n"
     ]
    }
   ],
   "source": [
    "#test set service:\n",
    "unique_service_test = sorted(df_test.service.unique())\n",
    "temp_test_1 = 'Service_'\n",
    "unique_service_test2 = [temp_test_1 + x for x in unique_service_test]\n",
    "#test set flag:\n",
    "unique_flag_test = sorted(df_test.flag.unique())\n",
    "temp_test_2 = 'Flag_'\n",
    "unique_flag_test2 = [temp_test_2 + x for x in unique_flag_test]\n",
    "#test set protocol:\n",
    "unique_protocol_test = sorted(df_test.protocol_type.unique())\n",
    "temp_test_3 = 'Protocol_type_'\n",
    "unique_protocol_test2 = [temp_test_3 + x for x in unique_protocol_test]\n",
    "\n",
    "#fix service thieu du lieu tu train:\n",
    "dumcols_test = unique_protocol_test2 + unique_service_test2 + unique_flag_test2\n",
    "print(dumcols_test)\n"
   ]
  },
  {
   "cell_type": "code",
   "execution_count": 284,
   "metadata": {},
   "outputs": [
    {
     "name": "stdout",
     "output_type": "stream",
     "text": [
      "  protocol_type  service flag\n",
      "0           udp    other   SF\n",
      "1           tcp     http   SF\n",
      "2           tcp     http   SF\n",
      "3           tcp  private  REJ\n",
      "4           tcp  private   S0\n",
      "===========================\n",
      "   protocol_type  service  flag\n",
      "0              2       43     9\n",
      "1              1       24     9\n",
      "2              1       24     9\n",
      "3              1       48     1\n",
      "4              1       48     5\n"
     ]
    }
   ],
   "source": [
    "df_value_enc = df_value.apply(LabelEncoder().fit_transform)\n",
    "\n",
    "print(df_value.head())\n",
    "print(\"===========================\")\n",
    "print(df_value_enc.head())\n",
    "\n",
    "df_test_value_enc = df_test_value.apply(LabelEncoder().fit_transform)\n"
   ]
  },
  {
   "cell_type": "markdown",
   "metadata": {},
   "source": [
    "**OneHot Encoder**"
   ]
  },
  {
   "cell_type": "code",
   "execution_count": 285,
   "metadata": {},
   "outputs": [
    {
     "data": {
      "text/html": [
       "<div>\n",
       "<style scoped>\n",
       "    .dataframe tbody tr th:only-of-type {\n",
       "        vertical-align: middle;\n",
       "    }\n",
       "\n",
       "    .dataframe tbody tr th {\n",
       "        vertical-align: top;\n",
       "    }\n",
       "\n",
       "    .dataframe thead th {\n",
       "        text-align: right;\n",
       "    }\n",
       "</style>\n",
       "<table border=\"1\" class=\"dataframe\">\n",
       "  <thead>\n",
       "    <tr style=\"text-align: right;\">\n",
       "      <th></th>\n",
       "      <th>Protocol_type_icmp</th>\n",
       "      <th>Protocol_type_tcp</th>\n",
       "      <th>Protocol_type_udp</th>\n",
       "      <th>Service_IRC</th>\n",
       "      <th>Service_X11</th>\n",
       "      <th>Service_Z39_50</th>\n",
       "      <th>Service_aol</th>\n",
       "      <th>Service_auth</th>\n",
       "      <th>Service_bgp</th>\n",
       "      <th>Service_courier</th>\n",
       "      <th>...</th>\n",
       "      <th>Flag_REJ</th>\n",
       "      <th>Flag_RSTO</th>\n",
       "      <th>Flag_RSTOS0</th>\n",
       "      <th>Flag_RSTR</th>\n",
       "      <th>Flag_S0</th>\n",
       "      <th>Flag_S1</th>\n",
       "      <th>Flag_S2</th>\n",
       "      <th>Flag_S3</th>\n",
       "      <th>Flag_SF</th>\n",
       "      <th>Flag_SH</th>\n",
       "    </tr>\n",
       "  </thead>\n",
       "  <tbody>\n",
       "    <tr>\n",
       "      <th>0</th>\n",
       "      <td>0.0</td>\n",
       "      <td>0.0</td>\n",
       "      <td>1.0</td>\n",
       "      <td>0.0</td>\n",
       "      <td>0.0</td>\n",
       "      <td>0.0</td>\n",
       "      <td>0.0</td>\n",
       "      <td>0.0</td>\n",
       "      <td>0.0</td>\n",
       "      <td>0.0</td>\n",
       "      <td>...</td>\n",
       "      <td>0.0</td>\n",
       "      <td>0.0</td>\n",
       "      <td>0.0</td>\n",
       "      <td>0.0</td>\n",
       "      <td>0.0</td>\n",
       "      <td>0.0</td>\n",
       "      <td>0.0</td>\n",
       "      <td>0.0</td>\n",
       "      <td>1.0</td>\n",
       "      <td>0.0</td>\n",
       "    </tr>\n",
       "    <tr>\n",
       "      <th>1</th>\n",
       "      <td>0.0</td>\n",
       "      <td>1.0</td>\n",
       "      <td>0.0</td>\n",
       "      <td>0.0</td>\n",
       "      <td>0.0</td>\n",
       "      <td>0.0</td>\n",
       "      <td>0.0</td>\n",
       "      <td>0.0</td>\n",
       "      <td>0.0</td>\n",
       "      <td>0.0</td>\n",
       "      <td>...</td>\n",
       "      <td>0.0</td>\n",
       "      <td>0.0</td>\n",
       "      <td>0.0</td>\n",
       "      <td>0.0</td>\n",
       "      <td>0.0</td>\n",
       "      <td>0.0</td>\n",
       "      <td>0.0</td>\n",
       "      <td>0.0</td>\n",
       "      <td>1.0</td>\n",
       "      <td>0.0</td>\n",
       "    </tr>\n",
       "    <tr>\n",
       "      <th>2</th>\n",
       "      <td>0.0</td>\n",
       "      <td>1.0</td>\n",
       "      <td>0.0</td>\n",
       "      <td>0.0</td>\n",
       "      <td>0.0</td>\n",
       "      <td>0.0</td>\n",
       "      <td>0.0</td>\n",
       "      <td>0.0</td>\n",
       "      <td>0.0</td>\n",
       "      <td>0.0</td>\n",
       "      <td>...</td>\n",
       "      <td>0.0</td>\n",
       "      <td>0.0</td>\n",
       "      <td>0.0</td>\n",
       "      <td>0.0</td>\n",
       "      <td>0.0</td>\n",
       "      <td>0.0</td>\n",
       "      <td>0.0</td>\n",
       "      <td>0.0</td>\n",
       "      <td>1.0</td>\n",
       "      <td>0.0</td>\n",
       "    </tr>\n",
       "    <tr>\n",
       "      <th>3</th>\n",
       "      <td>0.0</td>\n",
       "      <td>1.0</td>\n",
       "      <td>0.0</td>\n",
       "      <td>0.0</td>\n",
       "      <td>0.0</td>\n",
       "      <td>0.0</td>\n",
       "      <td>0.0</td>\n",
       "      <td>0.0</td>\n",
       "      <td>0.0</td>\n",
       "      <td>0.0</td>\n",
       "      <td>...</td>\n",
       "      <td>1.0</td>\n",
       "      <td>0.0</td>\n",
       "      <td>0.0</td>\n",
       "      <td>0.0</td>\n",
       "      <td>0.0</td>\n",
       "      <td>0.0</td>\n",
       "      <td>0.0</td>\n",
       "      <td>0.0</td>\n",
       "      <td>0.0</td>\n",
       "      <td>0.0</td>\n",
       "    </tr>\n",
       "    <tr>\n",
       "      <th>4</th>\n",
       "      <td>0.0</td>\n",
       "      <td>1.0</td>\n",
       "      <td>0.0</td>\n",
       "      <td>0.0</td>\n",
       "      <td>0.0</td>\n",
       "      <td>0.0</td>\n",
       "      <td>0.0</td>\n",
       "      <td>0.0</td>\n",
       "      <td>0.0</td>\n",
       "      <td>0.0</td>\n",
       "      <td>...</td>\n",
       "      <td>0.0</td>\n",
       "      <td>0.0</td>\n",
       "      <td>0.0</td>\n",
       "      <td>0.0</td>\n",
       "      <td>1.0</td>\n",
       "      <td>0.0</td>\n",
       "      <td>0.0</td>\n",
       "      <td>0.0</td>\n",
       "      <td>0.0</td>\n",
       "      <td>0.0</td>\n",
       "    </tr>\n",
       "  </tbody>\n",
       "</table>\n",
       "<p>5 rows × 83 columns</p>\n",
       "</div>"
      ],
      "text/plain": [
       "   Protocol_type_icmp  Protocol_type_tcp  Protocol_type_udp  Service_IRC  \\\n",
       "0                 0.0                0.0                1.0          0.0   \n",
       "1                 0.0                1.0                0.0          0.0   \n",
       "2                 0.0                1.0                0.0          0.0   \n",
       "3                 0.0                1.0                0.0          0.0   \n",
       "4                 0.0                1.0                0.0          0.0   \n",
       "\n",
       "   Service_X11  Service_Z39_50  Service_aol  Service_auth  Service_bgp  \\\n",
       "0          0.0             0.0          0.0           0.0          0.0   \n",
       "1          0.0             0.0          0.0           0.0          0.0   \n",
       "2          0.0             0.0          0.0           0.0          0.0   \n",
       "3          0.0             0.0          0.0           0.0          0.0   \n",
       "4          0.0             0.0          0.0           0.0          0.0   \n",
       "\n",
       "   Service_courier  ...  Flag_REJ  Flag_RSTO  Flag_RSTOS0  Flag_RSTR  Flag_S0  \\\n",
       "0              0.0  ...       0.0        0.0          0.0        0.0      0.0   \n",
       "1              0.0  ...       0.0        0.0          0.0        0.0      0.0   \n",
       "2              0.0  ...       0.0        0.0          0.0        0.0      0.0   \n",
       "3              0.0  ...       1.0        0.0          0.0        0.0      0.0   \n",
       "4              0.0  ...       0.0        0.0          0.0        0.0      1.0   \n",
       "\n",
       "   Flag_S1  Flag_S2  Flag_S3  Flag_SF  Flag_SH  \n",
       "0      0.0      0.0      0.0      1.0      0.0  \n",
       "1      0.0      0.0      0.0      1.0      0.0  \n",
       "2      0.0      0.0      0.0      1.0      0.0  \n",
       "3      0.0      0.0      0.0      0.0      0.0  \n",
       "4      0.0      0.0      0.0      0.0      0.0  \n",
       "\n",
       "[5 rows x 83 columns]"
      ]
     },
     "execution_count": 285,
     "metadata": {},
     "output_type": "execute_result"
    }
   ],
   "source": [
    "#create OneHotEncoder object:\n",
    "enc = OneHotEncoder(categories='auto')\n",
    "\n",
    "#fit and transform df_value_enc:\n",
    "df_value_enc_enc = enc.fit_transform(df_value_enc)\n",
    "df_cat_data = pd.DataFrame(df_value_enc_enc.toarray(),columns=dumcols)\n",
    "\n",
    "#fit and transform df_test_value_enc:\n",
    "df_test_value_enc_enc = enc.fit_transform(df_test_value_enc)\n",
    "df_test_cat_data = pd.DataFrame(df_test_value_enc_enc.toarray(),columns=dumcols_test)\n",
    "\n",
    "\n",
    "df_cat_data.head()\n",
    "\n"
   ]
  },
  {
   "cell_type": "code",
   "execution_count": 286,
   "metadata": {},
   "outputs": [
    {
     "name": "stdout",
     "output_type": "stream",
     "text": [
      "===========================\n",
      "(88161, 83)\n",
      "(37811, 82)\n"
     ]
    }
   ],
   "source": [
    "#check df_cat_data, df_test_cat_data:\n",
    "print(\"===========================\")\n",
    "print(df_cat_data.shape)\n",
    "print(df_test_cat_data.shape)"
   ]
  },
  {
   "cell_type": "code",
   "execution_count": 303,
   "metadata": {},
   "outputs": [
    {
     "name": "stdout",
     "output_type": "stream",
     "text": [
      "['protocol_type', 'service', 'flag']\n",
      "protocol_type\n",
      "[]\n",
      "service\n",
      "['service_http_2784', 'service_http_8001', 'service_aol']\n",
      "flag\n",
      "[]\n"
     ]
    }
   ],
   "source": [
    "#Kiem tra su khac nhau giua cac hang theo tung cot cua 2 dataframe:\n",
    "print(col_object_name)\n",
    "\n",
    "for col_name in col_object_name:\n",
    "    print(col_name)\n",
    "    trainlist = df[col_name].to_list()\n",
    "    testlist = df_test[col_name].to_list()\n",
    "    difference = list(set(trainlist) ^ set(testlist))\n",
    "    string = col_name + \"_\"\n",
    "    difference = [string + x for x in difference]\n",
    "    print(difference)\n",
    "    \n"
   ]
  },
  {
   "cell_type": "code",
   "execution_count": 305,
   "metadata": {},
   "outputs": [
    {
     "name": "stdout",
     "output_type": "stream",
     "text": [
      "['Service_http_2784', 'Service_http_8001', 'Service_aol']\n"
     ]
    }
   ],
   "source": [
    "#Chi co serivce bi thay doi:\n",
    "trainservice = df.service.to_list()\n",
    "testservice = df_test.service.to_list()\n",
    "difference_service = list(set(trainservice) ^ set(testservice))\n",
    "string = \"Service_\"\n",
    "difference_service = [string + x for x in difference_service]\n",
    "print(difference_service)"
   ]
  },
  {
   "cell_type": "code",
   "execution_count": 306,
   "metadata": {},
   "outputs": [
    {
     "name": "stdout",
     "output_type": "stream",
     "text": [
      "(88161, 83)\n",
      "(37811, 84)\n"
     ]
    }
   ],
   "source": [
    "#them cac hang thieu vao test:\n",
    "for col in difference_service:\n",
    "    df_test_cat_data[col] = 0\n",
    "\n",
    "print(df_cat_data.shape)\n",
    "print(df_test_cat_data.shape)\n"
   ]
  },
  {
   "cell_type": "code",
   "execution_count": 307,
   "metadata": {},
   "outputs": [
    {
     "name": "stdout",
     "output_type": "stream",
     "text": [
      "(88161, 84)\n",
      "(37811, 84)\n"
     ]
    }
   ],
   "source": [
    "#Them cac hang bi thieu vao train:\n",
    "for col in difference_service:\n",
    "    df_cat_data[col] = 0\n",
    "\n",
    "print(df_cat_data.shape)\n",
    "print(df_test_cat_data.shape)"
   ]
  },
  {
   "cell_type": "code",
   "execution_count": 308,
   "metadata": {},
   "outputs": [
    {
     "name": "stdout",
     "output_type": "stream",
     "text": [
      "(88161, 123)\n",
      "(37811, 123)\n"
     ]
    }
   ],
   "source": [
    "#them cac truong da encode vao lai:\n",
    "newdf = df.join(df_cat_data)\n",
    "newdf.drop('protocol_type', axis=1, inplace=True)\n",
    "newdf.drop('service', axis=1, inplace=True)\n",
    "newdf.drop('flag', axis=1, inplace=True)\n",
    "\n",
    "newdf_test = df_test.join(df_test_cat_data)\n",
    "newdf_test.drop('protocol_type', axis=1, inplace=True)\n",
    "newdf_test.drop('service', axis=1, inplace=True)\n",
    "newdf_test.drop('flag', axis=1, inplace=True)\n",
    "\n",
    "print(newdf.shape)\n",
    "print(newdf_test.shape)\n"
   ]
  },
  {
   "cell_type": "code",
   "execution_count": 309,
   "metadata": {},
   "outputs": [
    {
     "name": "stdout",
     "output_type": "stream",
     "text": [
      "['normal' 'neptune' 'warezclient' 'portsweep' 'teardrop' 'nmap' 'satan'\n",
      " 'pod' 'ipsweep' 'smurf' 'back' 'ftp_write' 'guess_passwd' 'multihop'\n",
      " 'buffer_overflow' 'imap' 'warezmaster' 'rootkit' 'land' 'loadmodule'\n",
      " 'spy' 'phf' 'perl']\n",
      "['neptune' 'normal' 'ipsweep' 'portsweep' 'smurf' 'warezclient' 'satan'\n",
      " 'teardrop' 'back' 'guess_passwd' 'nmap' 'rootkit' 'pod' 'phf'\n",
      " 'buffer_overflow' 'warezmaster' 'imap' 'land' 'multihop' 'ftp_write'\n",
      " 'spy' 'perl' 'loadmodule']\n",
      "===========================\n",
      "[]\n"
     ]
    }
   ],
   "source": [
    "#So hoa label:\n",
    "label_df = newdf['label']\n",
    "label_df_test = newdf_test['label']\n",
    "\n",
    "print(label_df.unique())\n",
    "print(label_df_test.unique())\n",
    "\n",
    "difference_label = list(set(label_df_test.unique()) ^ set(label_df.unique()))\n",
    "\n",
    "print(\"===========================\")\n",
    "print(difference_label)"
   ]
  },
  {
   "cell_type": "code",
   "execution_count": 310,
   "metadata": {},
   "outputs": [
    {
     "name": "stdout",
     "output_type": "stream",
     "text": [
      "{'normal': 0, 'neptune': 1, 'back': 1, 'land': 1, 'pod': 1, 'smurf': 1, 'teardrop': 1, 'mailbomb': 1, 'apache2': 1, 'processtable': 1, 'udpstorm': 1, 'worm': 1, 'ipsweep': 2, 'nmap': 2, 'portsweep': 2, 'satan': 2, 'mscan': 2, 'saint': 2, 'ftp_write': 3, 'guess_passwd': 3, 'imap': 3, 'multihop': 3, 'phf': 3, 'spy': 3, 'warezclient': 3, 'warezmaster': 3, 'sendmail': 3, 'named': 3, 'snmpgetattack': 3, 'snmpguess': 3, 'xlock': 3, 'xsnoop': 3, 'httptunnel': 3, 'buffer_overflow': 4, 'loadmodule': 4, 'perl': 4, 'rootkit': 4, 'ps': 4, 'sqlattack': 4, 'xterm': 4}\n",
      "===========================\n"
     ]
    }
   ],
   "source": [
    "#Them gia tri phan loai cho label:\n",
    "label_dict = { 'normal' : 0, \n",
    "                'neptune' : 1 ,'back': 1, 'land': 1, 'pod': 1, 'smurf': 1, 'teardrop': 1,'mailbomb': 1, 'apache2': 1, 'processtable': 1, 'udpstorm': 1, 'worm': 1,\n",
    "                'ipsweep' : 2,'nmap' : 2,'portsweep' : 2,'satan' : 2,'mscan' : 2,'saint' : 2,\n",
    "                'ftp_write': 3,'guess_passwd': 3,'imap': 3,'multihop': 3,'phf': 3,'spy': 3,'warezclient': 3,'warezmaster': 3,'sendmail': 3,'named': 3,'snmpgetattack': 3,'snmpguess': 3,'xlock': 3,'xsnoop': 3,'httptunnel': 3,\n",
    "                'buffer_overflow': 4,'loadmodule': 4,'perl': 4,'rootkit': 4,'ps': 4,'sqlattack': 4,'xterm': 4\n",
    "                }\n",
    "\n",
    "print(label_dict)\n",
    "\n",
    "print(\"===========================\")\n",
    "\n",
    "newlabel_df = label_df.replace(label_dict)\n",
    "newlabel_df_test = label_df_test.replace(label_dict)\n",
    "\n",
    "newdf['label'] = newlabel_df\n",
    "newdf_test['label'] = newlabel_df_test\n",
    "\n"
   ]
  },
  {
   "cell_type": "markdown",
   "metadata": {},
   "source": [
    "*Phan loai kieu tan cong bang gia tri label*\n",
    "![](attackclass.png)\n"
   ]
  },
  {
   "cell_type": "code",
   "execution_count": 311,
   "metadata": {},
   "outputs": [
    {
     "name": "stdout",
     "output_type": "stream",
     "text": [
      "Train:\n",
      "DoS: (79306, 123)\n",
      "Probe: (55378, 123)\n",
      "R2L: (47889, 123)\n",
      "U2R: (47257, 123)\n",
      "Test:\n",
      "DoS: (33963, 123)\n",
      "Probe: (23620, 123)\n",
      "R2L: (20448, 123)\n",
      "U2R: (20137, 123)\n"
     ]
    }
   ],
   "source": [
    "#Khoang phan loai\n",
    "is_DoS = [0,1]\n",
    "is_Probe = [0,2]\n",
    "is_R2L = [0,3]\n",
    "is_U2R = [0,4]\n",
    "\n",
    "DoS_df = newdf[newdf['label'].isin(is_DoS)]\n",
    "Probe_df = newdf[newdf['label'].isin(is_Probe)]\n",
    "R2L_df = newdf[newdf['label'].isin(is_R2L)]\n",
    "U2R_df = newdf[newdf['label'].isin(is_U2R)]\n",
    "\n",
    "#test\n",
    "DoS_df_test = newdf_test[newdf_test['label'].isin(is_DoS)]\n",
    "Probe_df_test = newdf_test[newdf_test['label'].isin(is_Probe)]\n",
    "R2L_df_test = newdf_test[newdf_test['label'].isin(is_R2L)]\n",
    "U2R_df_test = newdf_test[newdf_test['label'].isin(is_U2R)]\n",
    "\n",
    "print(\"Train:\")\n",
    "print(\"DoS:\", DoS_df.shape)\n",
    "print(\"Probe:\", Probe_df.shape)\n",
    "print(\"R2L:\", R2L_df.shape)\n",
    "print(\"U2R:\", U2R_df.shape)\n",
    "\n",
    "print(\"Test:\")\n",
    "print(\"DoS:\", DoS_df_test.shape)\n",
    "print(\"Probe:\", Probe_df_test.shape)\n",
    "print(\"R2L:\", R2L_df_test.shape)\n",
    "print(\"U2R:\", U2R_df_test.shape)\n"
   ]
  },
  {
   "cell_type": "markdown",
   "metadata": {},
   "source": [
    "**Chuyen ve dang vector**"
   ]
  },
  {
   "cell_type": "code",
   "execution_count": 312,
   "metadata": {},
   "outputs": [],
   "source": [
    "# X thuoc tinh, Y gia tri\n",
    "\n",
    "#Train\n",
    "X_DoS = DoS_df.drop('label', axis=1)\n",
    "Y_DoS = DoS_df['label']\n",
    "\n",
    "X_Probe = Probe_df.drop('label', axis=1)\n",
    "Y_Probe = Probe_df['label']\n",
    "\n",
    "X_R2L = R2L_df.drop('label', axis=1)\n",
    "Y_R2L = R2L_df['label']\n",
    "\n",
    "X_U2R = U2R_df.drop('label', axis=1)\n",
    "Y_U2R = U2R_df['label']\n",
    "\n",
    "#Test\n",
    "X_DoS_test = DoS_df_test.drop('label', axis=1)\n",
    "Y_DoS_test = DoS_df_test['label']\n",
    "\n",
    "X_Probe_test = Probe_df_test.drop('label', axis=1)\n",
    "Y_Probe_test = Probe_df_test['label']\n",
    "\n",
    "X_R2L_test = R2L_df_test.drop('label', axis=1)\n",
    "Y_R2L_test = R2L_df_test['label']\n",
    "\n",
    "X_U2R_test = U2R_df_test.drop('label', axis=1)\n",
    "Y_U2R_test = U2R_df_test['label']\n"
   ]
  },
  {
   "cell_type": "code",
   "execution_count": 313,
   "metadata": {},
   "outputs": [
    {
     "name": "stdout",
     "output_type": "stream",
     "text": [
      "['duration', 'src_bytes', 'dst_bytes', 'land', 'wrong_fragment', 'urgent', 'hot', 'num_failed_logins', 'logged_in', 'num_compromised', 'root_shell', 'su_attempted', 'num_root', 'num_file_creations', 'num_shells', 'num_access_files', 'num_outbound_cmds', 'is_host_login', 'is_guest_login', 'count', 'srv_count', 'serror_rate', 'srv_serror_rate', 'rerror_rate', 'srv_rerror_rate', 'same_srv_rate', 'diff_srv_rate', 'srv_diff_host_rate', 'dst_host_count', 'dst_host_srv_count', 'dst_host_same_srv_rate', 'dst_host_diff_srv_rate', 'dst_host_same_src_port_rate', 'dst_host_srv_diff_host_rate', 'dst_host_serror_rate', 'dst_host_srv_serror_rate', 'dst_host_rerror_rate', 'dst_host_srv_rerror_rate', 'Protocol_type_icmp', 'Protocol_type_tcp', 'Protocol_type_udp', 'Service_IRC', 'Service_X11', 'Service_Z39_50', 'Service_aol', 'Service_auth', 'Service_bgp', 'Service_courier', 'Service_csnet_ns', 'Service_ctf', 'Service_daytime', 'Service_discard', 'Service_domain', 'Service_domain_u', 'Service_echo', 'Service_eco_i', 'Service_ecr_i', 'Service_efs', 'Service_exec', 'Service_finger', 'Service_ftp', 'Service_ftp_data', 'Service_gopher', 'Service_harvest', 'Service_hostnames', 'Service_http', 'Service_http_443', 'Service_http_8001', 'Service_imap4', 'Service_iso_tsap', 'Service_klogin', 'Service_kshell', 'Service_ldap', 'Service_link', 'Service_login', 'Service_mtp', 'Service_name', 'Service_netbios_dgm', 'Service_netbios_ns', 'Service_netbios_ssn', 'Service_netstat', 'Service_nnsp', 'Service_nntp', 'Service_ntp_u', 'Service_other', 'Service_pm_dump', 'Service_pop_2', 'Service_pop_3', 'Service_printer', 'Service_private', 'Service_red_i', 'Service_remote_job', 'Service_rje', 'Service_shell', 'Service_smtp', 'Service_sql_net', 'Service_ssh', 'Service_sunrpc', 'Service_supdup', 'Service_systat', 'Service_telnet', 'Service_tftp_u', 'Service_tim_i', 'Service_time', 'Service_urh_i', 'Service_urp_i', 'Service_uucp', 'Service_uucp_path', 'Service_vmnet', 'Service_whois', 'Flag_OTH', 'Flag_REJ', 'Flag_RSTO', 'Flag_RSTOS0', 'Flag_RSTR', 'Flag_S0', 'Flag_S1', 'Flag_S2', 'Flag_S3', 'Flag_SF', 'Flag_SH', 'Service_http_2784']\n",
      "[0, 0, 0, 1, 1, 1, 1, 1, 1, 1]\n"
     ]
    }
   ],
   "source": [
    "#lay ten cac cot:\n",
    "\n",
    "colNames_train = list(X_DoS)\n",
    "labelNames_train = list(Y_DoS)\n",
    "\n",
    "colNames_test = list(X_DoS_test)\n",
    "\n",
    "print(colNames_train)\n",
    "print(labelNames_train[0:10])"
   ]
  },
  {
   "cell_type": "code",
   "execution_count": 314,
   "metadata": {},
   "outputs": [],
   "source": [
    "from sklearn import preprocessing\n",
    "\n",
    "#train\n",
    "scaler1 = preprocessing.StandardScaler().fit(X_DoS)\n",
    "X_DoS = scaler1.transform(X_DoS)\n",
    "\n",
    "scaler2 = preprocessing.StandardScaler().fit(X_Probe)\n",
    "X_Probe = scaler2.transform(X_Probe)\n",
    "\n",
    "scaler3 = preprocessing.StandardScaler().fit(X_R2L)\n",
    "X_R2L = scaler3.transform(X_R2L)\n",
    "\n",
    "scaler4 = preprocessing.StandardScaler().fit(X_U2R)\n",
    "X_U2R = scaler4.transform(X_U2R)\n",
    "\n",
    "#test\n",
    "\n",
    "scaler_test1 = preprocessing.StandardScaler().fit(X_DoS_test)\n",
    "X_DoS_test = scaler_test1.transform(X_DoS_test)\n",
    "\n",
    "scaler_test2 = preprocessing.StandardScaler().fit(X_Probe_test)\n",
    "X_Probe_test = scaler_test2.transform(X_Probe_test)\n",
    "\n",
    "scaler_test3 = preprocessing.StandardScaler().fit(X_R2L_test)\n",
    "X_R2L_test = scaler_test3.transform(X_R2L_test)\n",
    "\n",
    "scaler_test4 = preprocessing.StandardScaler().fit(X_U2R_test)\n",
    "X_U2R_test = scaler_test4.transform(X_U2R_test)\n",
    "\n",
    "\n",
    "# colNames_train = list(X_DoS)\n",
    "# colNames_train\n"
   ]
  },
  {
   "cell_type": "markdown",
   "metadata": {},
   "source": [
    "# Random Forest All Feature"
   ]
  },
  {
   "cell_type": "code",
   "execution_count": 315,
   "metadata": {},
   "outputs": [
    {
     "data": {
      "text/plain": [
       "RandomForestClassifier(n_estimators=10, n_jobs=2)"
      ]
     },
     "execution_count": 315,
     "metadata": {},
     "output_type": "execute_result"
    }
   ],
   "source": [
    "from sklearn.feature_selection import RFE\n",
    "from sklearn.ensemble import RandomForestClassifier\n",
    "\n",
    "#all features:\n",
    "clf_DoS = RandomForestClassifier(n_estimators=50, n_jobs= 2)\n",
    "clf_Probe = RandomForestClassifier(n_estimators=50, n_jobs= 2)\n",
    "clf_R2L = RandomForestClassifier(n_estimators=10, n_jobs= 2)\n",
    "clf_U2R = RandomForestClassifier(n_estimators=10, n_jobs= 2)\n",
    "\n",
    "#build Models:\n",
    "clf_DoS.fit(X_DoS, Y_DoS.astype(int))\n",
    "clf_Probe.fit(X_Probe, Y_Probe.astype(int))\n",
    "clf_R2L.fit(X_R2L, Y_R2L.astype(int))\n",
    "clf_U2R.fit(X_U2R, Y_U2R.astype(int))\n",
    "\n"
   ]
  },
  {
   "cell_type": "markdown",
   "metadata": {},
   "source": [
    "**Predict**"
   ]
  },
  {
   "cell_type": "code",
   "execution_count": 316,
   "metadata": {},
   "outputs": [
    {
     "name": "stdout",
     "output_type": "stream",
     "text": [
      "Accuracy: 0.99959 (+/- 0.00054)\n",
      "Precision: 0.99964 (+/- 0.00097)\n",
      "Recall: 0.99957 (+/- 0.00096)\n",
      "F1: 0.99960 (+/- 0.00060)\n"
     ]
    }
   ],
   "source": [
    "#DoS:\n",
    "\n",
    "# clf_DoS.predict(X_DoS_test)\n",
    "# clf_DoS.predict_proba(X_DoS_test)[0:10]\n",
    "\n",
    "Y_DoS_pred = clf_DoS.predict(X_DoS_test)\n",
    "\n",
    "pd.crosstab(Y_DoS_test, Y_DoS_pred, rownames=['Truth'], colnames=['Predicted'], margins=True)\n",
    "\n",
    "from sklearn.model_selection import cross_val_score\n",
    "from sklearn import metrics\n",
    "\n",
    "accuracy_DoS = cross_val_score(clf_DoS, X_DoS_test, Y_DoS_test, cv=10, scoring='accuracy')\n",
    "print(\"Accuracy: %0.5f (+/- %0.5f)\" % (accuracy_DoS.mean(), accuracy_DoS.std() * 2))\n",
    "\n",
    "precision_DoS = cross_val_score(clf_DoS, X_DoS_test, Y_DoS_test, cv=10, scoring='precision')\n",
    "print(\"Precision: %0.5f (+/- %0.5f)\" % (precision_DoS.mean(), precision_DoS.std() * 2))\n",
    "\n",
    "recall_DoS = cross_val_score(clf_DoS, X_DoS_test, Y_DoS_test, cv=10, scoring='recall')\n",
    "print(\"Recall: %0.5f (+/- %0.5f)\" % (recall_DoS.mean(), recall_DoS.std() * 2))\n",
    "\n",
    "f_DoS = cross_val_score(clf_DoS, X_DoS_test, Y_DoS_test, cv=10, scoring='f1')\n",
    "print(\"F1: %0.5f (+/- %0.5f)\" % (f_DoS.mean(), f_DoS.std() * 2))\n",
    "\n"
   ]
  },
  {
   "cell_type": "code",
   "execution_count": 317,
   "metadata": {},
   "outputs": [
    {
     "name": "stdout",
     "output_type": "stream",
     "text": [
      "Accuracy: 0.99877 (+/- 0.00175)\n",
      "Precision: 0.99878 (+/- 0.00183)\n",
      "Recall: 0.99633 (+/- 0.00603)\n",
      "F1: 0.99739 (+/- 0.00366)\n"
     ]
    }
   ],
   "source": [
    "#probe:\n",
    "Y_Probe_pred = clf_Probe.predict(X_Probe_test)\n",
    "\n",
    "pd.crosstab(Y_Probe_test, Y_Probe_pred, rownames=['Truth'], colnames=['Predicted'], margins=True)\n",
    "\n",
    "accuracy_Probe = cross_val_score(clf_Probe, X_Probe_test, Y_Probe_test, cv=10, scoring='accuracy')\n",
    "print(\"Accuracy: %0.5f (+/- %0.5f)\" % (accuracy_Probe.mean(), accuracy_Probe.std() * 2))\n",
    "\n",
    "precision_Probe = cross_val_score(clf_Probe, X_Probe_test, Y_Probe_test, cv=10, scoring='precision_macro')\n",
    "print(\"Precision: %0.5f (+/- %0.5f)\" % (precision_Probe.mean(), precision_Probe.std() * 2))\n",
    "\n",
    "recall_Probe = cross_val_score(clf_Probe, X_Probe_test, Y_Probe_test, cv=10, scoring='recall_macro')\n",
    "print(\"Recall: %0.5f (+/- %0.5f)\" % (recall_Probe.mean(), recall_Probe.std() * 2))\n",
    "\n",
    "f_Probe = cross_val_score(clf_Probe, X_Probe_test, Y_Probe_test, cv=10, scoring='f1_macro')\n",
    "print(\"F1: %0.5f (+/- %0.5f)\" % (f_Probe.mean(), f_Probe.std() * 2))\n"
   ]
  },
  {
   "cell_type": "code",
   "execution_count": 318,
   "metadata": {},
   "outputs": [
    {
     "name": "stdout",
     "output_type": "stream",
     "text": [
      "Accuracy: 0.99848 (+/- 0.00177)\n",
      "Precision: 0.98965 (+/- 0.02062)\n",
      "Recall: 0.95581 (+/- 0.05832)\n",
      "F1: 0.96976 (+/- 0.03959)\n"
     ]
    }
   ],
   "source": [
    "#R2L:\n",
    "Y_R2L_pred = clf_R2L.predict(X_R2L_test)\n",
    "\n",
    "pd.crosstab(Y_R2L_test, Y_R2L_pred, rownames=['Truth'], colnames=['Predicted'], margins=True)\n",
    "\n",
    "accuracy_R2L = cross_val_score(clf_R2L, X_R2L_test, Y_R2L_test, cv=10, scoring='accuracy')\n",
    "print(\"Accuracy: %0.5f (+/- %0.5f)\" % (accuracy_R2L.mean(), accuracy_R2L.std() * 2))\n",
    "\n",
    "precision_R2L = cross_val_score(clf_R2L, X_R2L_test, Y_R2L_test, cv=10, scoring='precision_macro')\n",
    "print(\"Precision: %0.5f (+/- %0.5f)\" % (precision_R2L.mean(), precision_R2L.std() * 2))\n",
    "\n",
    "recall_R2L = cross_val_score(clf_R2L, X_R2L_test, Y_R2L_test, cv=10, scoring='recall_macro')\n",
    "print(\"Recall: %0.5f (+/- %0.5f)\" % (recall_R2L.mean(), recall_R2L.std() * 2))\n",
    "\n",
    "f_R2L = cross_val_score(clf_R2L, X_R2L_test, Y_R2L_test, cv=10, scoring='f1_macro')\n",
    "print(\"F1: %0.5f (+/- %0.5f)\" % (f_R2L.mean(), f_R2L.std() * 2))\n"
   ]
  },
  {
   "cell_type": "code",
   "execution_count": 324,
   "metadata": {},
   "outputs": [
    {
     "name": "stdout",
     "output_type": "stream",
     "text": [
      "Accuracy: 0.99926 (+/- 0.00050)\n"
     ]
    }
   ],
   "source": [
    "#U2R\n",
    "Y_U2R_pred = clf_U2R.predict(X_U2R_test)\n",
    "\n",
    "pd.crosstab(Y_U2R_test, Y_U2R_pred, rownames=['Truth'], colnames=['Predicted'], margins=True)\n",
    "\n",
    "accuracy_U2R = cross_val_score(clf_U2R, X_U2R_test, Y_U2R_test, cv=10, scoring='accuracy')\n",
    "print(\"Accuracy: %0.5f (+/- %0.5f)\" % (accuracy_U2R.mean(), accuracy_U2R.std() * 2))\n",
    "\n",
    "# precision_U2R = cross_val_score(clf_U2R, X_U2R_test, Y_U2R_test, cv=10, scoring='precision_macro')\n",
    "# print(\"Precision: %0.5f (+/- %0.5f)\" % (precision_U2R.mean(), precision_U2R.std() * 2))\n",
    "\n",
    "# recall_U2R = cross_val_score(clf_U2R, X_U2R_test, Y_U2R_test, cv=10, scoring='recall_macro', zero_division=1)\n",
    "# print(\"Recall: %0.5f (+/- %0.5f)\" % (recall_U2R.mean(), recall_U2R.std() * 2))\n",
    "\n",
    "# f_U2R = cross_val_score(clf_U2R, X_U2R_test, Y_U2R_test, cv=10, scoring='f1_macro', zero_division=1)\n",
    "# print(\"F1: %0.5f (+/- %0.5f)\" % (f_U2R.mean(), f_U2R.std() * 2))\n"
   ]
  },
  {
   "cell_type": "markdown",
   "metadata": {},
   "source": [
    "# Random Forest: feature selected"
   ]
  },
  {
   "cell_type": "code",
   "execution_count": 320,
   "metadata": {},
   "outputs": [],
   "source": [
    "from sklearn.feature_selection import RFE\n",
    "from sklearn.ensemble import RandomForestClassifier\n",
    "\n",
    "#set number of tree in random forest = 50\n",
    "clf = RandomForestClassifier(n_estimators=50, n_jobs= 2)\n",
    "\n",
    "rfe = RFE(estimator= clf, n_features_to_select=13, step = 1)\n",
    "\n",
    "\n",
    "\n",
    "\n"
   ]
  },
  {
   "cell_type": "markdown",
   "metadata": {},
   "source": [
    "**Tim 13 thuoc tinh de chon (neu can)**"
   ]
  },
  {
   "cell_type": "code",
   "execution_count": 321,
   "metadata": {},
   "outputs": [
    {
     "name": "stdout",
     "output_type": "stream",
     "text": [
      "Features selected for DoS: ['src_bytes', 'dst_bytes', 'wrong_fragment', 'num_compromised', 'count', 'srv_count', 'serror_rate', 'same_srv_rate', 'dst_host_count', 'dst_host_same_srv_rate', 'dst_host_srv_serror_rate', 'Service_ecr_i', 'Flag_S0']\n"
     ]
    }
   ],
   "source": [
    "#DoS_train:\n",
    "rfe.fit(X_DoS, Y_DoS.astype(int))\n",
    "X_rfeDoS = rfe.transform(X_DoS)\n",
    "true = rfe.support_\n",
    "rfecolindex_DoS = [i for i, x in enumerate(true) if x]\n",
    "rfecolname_DoS = list(colNames_train[i] for i in rfecolindex_DoS)\n",
    "\n",
    "print(\"Features selected for DoS:\", rfecolname_DoS) "
   ]
  },
  {
   "cell_type": "code",
   "execution_count": null,
   "metadata": {},
   "outputs": [],
   "source": [
    "#Probe_train:\n",
    "rfe.fit(X_Probe, Y_Probe.astype(int))\n",
    "X_rfeProbe = rfe.transform(X_Probe)\n",
    "true = rfe.support_\n",
    "rfecolindex_Probe = [i for i, x in enumerate(true) if x]\n",
    "rfecolname_Probe = list(colNames_train[i] for i in rfecolindex_Probe)\n",
    "\n",
    "print(\"Features selected for Probe:\", rfecolname_Probe)"
   ]
  },
  {
   "cell_type": "code",
   "execution_count": null,
   "metadata": {},
   "outputs": [
    {
     "name": "stdout",
     "output_type": "stream",
     "text": [
      "Features selected for R2L: ['duration', 'src_bytes', 'dst_bytes', 'hot', 'is_guest_login', 'dst_host_count', 'dst_host_srv_count', 'dst_host_same_srv_rate', 'dst_host_diff_srv_rate', 'dst_host_same_src_port_rate', 'dst_host_srv_diff_host_rate', 'Service_ftp', 'Service_ftp_data']\n"
     ]
    }
   ],
   "source": [
    "#R2L_train:\n",
    "rfe.fit(X_R2L, Y_R2L.astype(int))\n",
    "X_rfeR2L = rfe.transform(X_R2L)\n",
    "true = rfe.support_\n",
    "rfecolindex_R2L = [i for i, x in enumerate(true) if x]\n",
    "rfecolname_R2L = list(colNames_train[i] for i in rfecolindex_R2L)\n",
    "\n",
    "print(\"Features selected for R2L:\", rfecolname_R2L)\n"
   ]
  },
  {
   "cell_type": "code",
   "execution_count": null,
   "metadata": {},
   "outputs": [
    {
     "name": "stdout",
     "output_type": "stream",
     "text": [
      "Features selected for U2R: ['duration', 'src_bytes', 'dst_bytes', 'hot', 'num_compromised', 'root_shell', 'num_file_creations', 'dst_host_count', 'dst_host_srv_count', 'dst_host_same_srv_rate', 'dst_host_diff_srv_rate', 'dst_host_same_src_port_rate', 'Service_ftp_data']\n"
     ]
    }
   ],
   "source": [
    "#U2R_train:\n",
    "rfe.fit(X_U2R, Y_U2R.astype(int))\n",
    "X_rfeU2R = rfe.transform(X_U2R)\n",
    "true = rfe.support_\n",
    "rfecolindex_U2R = [i for i, x in enumerate(true) if x]\n",
    "rfecolname_U2R = list(colNames_train[i] for i in rfecolindex_U2R)\n",
    "\n",
    "print(\"Features selected for U2R:\", rfecolname_U2R)"
   ]
  },
  {
   "cell_type": "code",
   "execution_count": null,
   "metadata": {},
   "outputs": [
    {
     "name": "stdout",
     "output_type": "stream",
     "text": [
      "(79306, 13)\n",
      "(55378, 13)\n",
      "(47889, 13)\n",
      "(47257, 13)\n"
     ]
    }
   ],
   "source": [
    "print(X_rfeDoS.shape)\n",
    "print(X_rfeProbe.shape)\n",
    "print(X_rfeR2L.shape)\n",
    "print(X_rfeU2R.shape)"
   ]
  }
 ],
 "metadata": {
  "interpreter": {
   "hash": "04635d289a519a1410467dd0afb0db42f9184808881ca68b2eb5a687a20a5a94"
  },
  "kernelspec": {
   "display_name": "Python 3.7.9 64-bit",
   "language": "python",
   "name": "python3"
  },
  "language_info": {
   "codemirror_mode": {
    "name": "ipython",
    "version": 3
   },
   "file_extension": ".py",
   "mimetype": "text/x-python",
   "name": "python",
   "nbconvert_exporter": "python",
   "pygments_lexer": "ipython3",
   "version": "3.7.9"
  },
  "orig_nbformat": 4
 },
 "nbformat": 4,
 "nbformat_minor": 2
}
